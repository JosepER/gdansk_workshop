{
 "cells": [
  {
   "cell_type": "code",
   "execution_count": 1,
   "metadata": {},
   "outputs": [],
   "source": [
    "import pandas as pd"
   ]
  },
  {
   "cell_type": "markdown",
   "metadata": {},
   "source": [
    "### 1- read .dta datasets in /data"
   ]
  },
  {
   "cell_type": "code",
   "execution_count": 2,
   "metadata": {},
   "outputs": [],
   "source": [
    "file_h = pd.read_stata(\"data/it14ih.dta\")\n",
    "file_p = pd.read_stata(\"data/it14ip.dta\")"
   ]
  },
  {
   "cell_type": "markdown",
   "metadata": {},
   "source": [
    "### 2 - subset variables"
   ]
  },
  {
   "cell_type": "code",
   "execution_count": 3,
   "metadata": {},
   "outputs": [
    {
     "data": {
      "text/plain": [
       "array(['hid', 'dhi', 'hitotal', 'hifactor', 'hitransfer', 'hilabour',\n",
       "       'hi11', 'hi12', 'hi121', 'hi13', 'hi14', 'hicapital', 'hi21',\n",
       "       'hi22', 'hipension', 'hi31', 'hi311', 'hi312', 'hi32', 'hi33',\n",
       "       'hi331', 'hi332', 'hpublic', 'hpub_i', 'hpub_u', 'hpub_a',\n",
       "       'hipubsoc', 'hi41', 'hi411', 'hi412', 'hi42', 'hi421', 'hi422',\n",
       "       'hi43', 'hi44', 'hi45', 'hi46', 'hi47', 'hi471', 'hiprivate',\n",
       "       'hi51', 'hi511', 'hi52', 'hi521', 'hi522', 'hi53', 'hi531',\n",
       "       'hi532', 'dhci', 'hvalgs', 'hxitsc', 'hxitax', 'hxscont', 'hxotax',\n",
       "       'hxptax', 'hxvcont', 'hxiht', 'hxalim', 'hxremit', 'hxmort',\n",
       "       'hxintm', 'hxloan', 'hxintl', 'hhouscost', 'hrenti', 'hcexp',\n",
       "       'hc1', 'hc2', 'hc3', 'hc4', 'hc41', 'hc5', 'hc6', 'hc7', 'hc8',\n",
       "       'hc9', 'hc10', 'hc11', 'hc12', 'helabour', 'hecgain', 'heinherit',\n",
       "       'heoth', 'nearn', 'region_c', 'locsz_c', 'area_c', 'rural', 'own',\n",
       "       'dweltyp', 'farming', 'did', 'dname', 'cname', 'iso2', 'iso3',\n",
       "       'year', 'wave', 'currency', 'grossnet', 'nhhmem', 'nhhmem65',\n",
       "       'nhhmem17', 'nhhmem13', 'hhtype', 'hpartner', 'hwgt', 'hpopwgt',\n",
       "       'hwgta', 'fhimpu'], dtype=object)"
      ]
     },
     "execution_count": 3,
     "metadata": {},
     "output_type": "execute_result"
    }
   ],
   "source": [
    "file_h.columns.values"
   ]
  },
  {
   "cell_type": "code",
   "execution_count": 4,
   "metadata": {},
   "outputs": [],
   "source": [
    "\n",
    "file_h = file_h[[\"hid\", \"hilabour\", \"nhhmem\", \"hpopwgt\"]]\n",
    "\n",
    "file_p = file_p[[\"hid\", \"pid\", \"pilabour\", \"sex\", \"age\", \"marital\",\n",
    "                 \"disabled\", \"educlev\", \"lfs\", \"status1\", \"ind1_c\", \"occ1_c\"]]"
   ]
  },
  {
   "cell_type": "code",
   "execution_count": 5,
   "metadata": {},
   "outputs": [
    {
     "data": {
      "text/plain": [
       "array(['hid', 'hilabour', 'nhhmem', 'hpopwgt'], dtype=object)"
      ]
     },
     "execution_count": 5,
     "metadata": {},
     "output_type": "execute_result"
    }
   ],
   "source": [
    "file_h.columns.values "
   ]
  },
  {
   "cell_type": "markdown",
   "metadata": {},
   "source": [
    "### 3- merge datasets"
   ]
  },
  {
   "cell_type": "code",
   "execution_count": 6,
   "metadata": {},
   "outputs": [],
   "source": [
    "file = file_p.merge(file_h, on=\"hid\", how=\"left\")"
   ]
  },
  {
   "cell_type": "markdown",
   "metadata": {},
   "source": [
    "### 4- Arrange the data"
   ]
  },
  {
   "cell_type": "code",
   "execution_count": 7,
   "metadata": {},
   "outputs": [],
   "source": [
    "file = file[(file[\"age\"] >= 30) & (file[\"age\"] <= 60) & (file[\"pilabour\"] > 0)]"
   ]
  },
  {
   "cell_type": "markdown",
   "metadata": {},
   "source": [
    "#### Print number of rows in the dataset"
   ]
  },
  {
   "cell_type": "code",
   "execution_count": 8,
   "metadata": {},
   "outputs": [
    {
     "data": {
      "text/plain": [
       "(648, 15)"
      ]
     },
     "execution_count": 8,
     "metadata": {},
     "output_type": "execute_result"
    }
   ],
   "source": [
    "file.shape"
   ]
  },
  {
   "cell_type": "markdown",
   "metadata": {},
   "source": [
    "#### Print number of NAs in each variable"
   ]
  },
  {
   "cell_type": "code",
   "execution_count": 9,
   "metadata": {},
   "outputs": [
    {
     "data": {
      "text/plain": [
       "hid           0\n",
       "pid           0\n",
       "pilabour      0\n",
       "sex           0\n",
       "age           0\n",
       "marital       0\n",
       "disabled      0\n",
       "educlev       0\n",
       "lfs           0\n",
       "status1      12\n",
       "ind1_c       12\n",
       "occ1_c      133\n",
       "hilabour      0\n",
       "nhhmem        0\n",
       "hpopwgt       0\n",
       "dtype: int64"
      ]
     },
     "execution_count": 9,
     "metadata": {},
     "output_type": "execute_result"
    }
   ],
   "source": [
    "file.isnull().sum()"
   ]
  },
  {
   "cell_type": "markdown",
   "metadata": {},
   "source": [
    "#### Delete rows with NAs"
   ]
  },
  {
   "cell_type": "code",
   "execution_count": 10,
   "metadata": {},
   "outputs": [],
   "source": [
    "file = file.dropna()"
   ]
  },
  {
   "cell_type": "markdown",
   "metadata": {},
   "source": [
    "#### Drite file to csv"
   ]
  },
  {
   "cell_type": "code",
   "execution_count": 11,
   "metadata": {},
   "outputs": [],
   "source": [
    "file.to_csv(\"clean_data/it14i.csv\", index=False)"
   ]
  }
 ],
 "metadata": {
  "kernelspec": {
   "display_name": "env_gdansk",
   "language": "python",
   "name": "python3"
  },
  "language_info": {
   "codemirror_mode": {
    "name": "ipython",
    "version": 3
   },
   "file_extension": ".py",
   "mimetype": "text/x-python",
   "name": "python",
   "nbconvert_exporter": "python",
   "pygments_lexer": "ipython3",
   "version": "3.9.4"
  },
  "orig_nbformat": 4
 },
 "nbformat": 4,
 "nbformat_minor": 2
}
